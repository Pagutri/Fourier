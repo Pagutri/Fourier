{
 "cells": [
  {
   "cell_type": "markdown",
   "metadata": {},
   "source": [
    "# Transformada de Fourier con Python\n",
    "\n",
    "__TODO:__\n",
    "\n",
    "Graficar ondas\n",
    "\n",
    "Sumar ondas para crear onda estacionaria.\n",
    "\n",
    "Sumar ondas para crear batidos.\n",
    "\n",
    "Animar esas ondas.\n",
    "\n",
    "Hacer la transformada y transformada inversa de Fourier."
   ]
  },
  {
   "cell_type": "code",
   "execution_count": null,
   "metadata": {},
   "outputs": [],
   "source": []
  }
 ],
 "metadata": {
  "kernelspec": {
   "display_name": "Python 3",
   "language": "python",
   "name": "python3"
  },
  "language_info": {
   "codemirror_mode": {
    "name": "ipython",
    "version": 3
   },
   "file_extension": ".py",
   "mimetype": "text/x-python",
   "name": "python",
   "nbconvert_exporter": "python",
   "pygments_lexer": "ipython3",
   "version": "3.6.6"
  }
 },
 "nbformat": 4,
 "nbformat_minor": 2
}
